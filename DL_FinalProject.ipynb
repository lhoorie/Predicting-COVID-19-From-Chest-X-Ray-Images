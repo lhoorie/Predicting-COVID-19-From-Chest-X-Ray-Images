{
  "cells": [
    {
      "cell_type": "code",
      "execution_count": null,
      "metadata": {
        "colab": {
          "base_uri": "https://localhost:8080/"
        },
        "id": "WCi-vurCk0uy",
        "outputId": "a25604b3-ec65-45cc-b4b7-157d34c4a8b2"
      },
      "outputs": [
        {
          "name": "stdout",
          "output_type": "stream",
          "text": [
            "Looking in indexes: https://pypi.org/simple, https://us-python.pkg.dev/colab-wheels/public/simple/\n",
            "Requirement already satisfied: shutup in /usr/local/lib/python3.8/dist-packages (0.2.0)\n"
          ]
        }
      ],
      "source": [
        "!pip install shutup\n",
        "##At the top of the code\n",
        "import shutup\n",
        "shutup.please()"
      ]
    },
    {
      "cell_type": "markdown",
      "metadata": {
        "id": "nqAP4cTMSxIT"
      },
      "source": [
        "#**<font color=\"orange\">Import packages</font>**"
      ]
    },
    {
      "cell_type": "code",
      "execution_count": null,
      "metadata": {
        "id": "N5uDvciZRhYo"
      },
      "outputs": [],
      "source": [
        "import torch\n",
        "import torch.optim as optim\n",
        "from torch.optim import lr_scheduler\n",
        "import torchvision\n",
        "import numpy as np\n",
        "import cv2\n",
        "import os\n",
        "import torchvision\n",
        "from torchvision import datasets, models, transforms\n",
        "import matplotlib.pyplot as plt\n",
        "import copy, pickle, os, time\n",
        "from google.colab import drive\n",
        "from sklearn.metrics import roc_curve\n",
        "from sklearn.metrics import roc_auc_score\n",
        "import torch.nn as nn\n",
        "import torch.nn.functional as F\n",
        "from torch.autograd import Variable\n",
        "from PIL import Image\n",
        "from torchvision.datasets.folder import IMG_EXTENSIONS\n",
        "from torchvision.datasets import ImageFolder\n",
        "from sklearn.metrics import confusion_matrix\n",
        "import glob\n",
        "import seaborn as sn\n",
        "import matplotlib.image as mpimg\n",
        "%matplotlib inline\n",
        "from skimage.io import imread\n",
        "import PIL\n",
        "from torchsummary import summary"
      ]
    },
    {
      "cell_type": "markdown",
      "metadata": {
        "id": "Ysd_yaeIYrxe"
      },
      "source": [
        "#**<font color=\"orange\">Download dataset</font>**"
      ]
    },
    {
      "cell_type": "code",
      "execution_count": null,
      "metadata": {
        "colab": {
          "base_uri": "https://localhost:8080/"
        },
        "id": "XWOSxWKvbGJu",
        "outputId": "dbd9bae9-48e8-4365-817d-1e99d24e0c95"
      },
      "outputs": [
        {
          "name": "stdout",
          "output_type": "stream",
          "text": [
            "--2023-01-26 11:34:33--  https://www.dropbox.com/s/9w8nmj791c9ogsx/data_upload_v3.zip\n",
            "Resolving www.dropbox.com (www.dropbox.com)... 162.125.4.18, 2620:100:6018:18::a27d:312\n",
            "Connecting to www.dropbox.com (www.dropbox.com)|162.125.4.18|:443... connected.\n",
            "HTTP request sent, awaiting response... 302 Found\n",
            "Location: /s/raw/9w8nmj791c9ogsx/data_upload_v3.zip [following]\n",
            "--2023-01-26 11:34:34--  https://www.dropbox.com/s/raw/9w8nmj791c9ogsx/data_upload_v3.zip\n",
            "Reusing existing connection to www.dropbox.com:443.\n",
            "HTTP request sent, awaiting response... 302 Found\n",
            "Location: https://uc14765fb619304032fe47d2ad8c.dl.dropboxusercontent.com/cd/0/inline/B1TgVM8Jcy63HEV3r7n6Ro8mJh4dvp1JcyLHIHmBHf-JKXLDpJeSbHvjI7KIz0tBwkaAn2hwOrZ91CTHrHfvHscnbbSywIzlpBZRmgRdDKzR2QZexUF1aaaIqSyh1vwa5SVbM-jpRvuUShzTBH8DVURCn9X_MdLjbE8bolPK1SX7Jg/file# [following]\n",
            "--2023-01-26 11:34:34--  https://uc14765fb619304032fe47d2ad8c.dl.dropboxusercontent.com/cd/0/inline/B1TgVM8Jcy63HEV3r7n6Ro8mJh4dvp1JcyLHIHmBHf-JKXLDpJeSbHvjI7KIz0tBwkaAn2hwOrZ91CTHrHfvHscnbbSywIzlpBZRmgRdDKzR2QZexUF1aaaIqSyh1vwa5SVbM-jpRvuUShzTBH8DVURCn9X_MdLjbE8bolPK1SX7Jg/file\n",
            "Resolving uc14765fb619304032fe47d2ad8c.dl.dropboxusercontent.com (uc14765fb619304032fe47d2ad8c.dl.dropboxusercontent.com)... 162.125.4.15, 2620:100:601c:15::a27d:60f\n",
            "Connecting to uc14765fb619304032fe47d2ad8c.dl.dropboxusercontent.com (uc14765fb619304032fe47d2ad8c.dl.dropboxusercontent.com)|162.125.4.15|:443... connected.\n",
            "HTTP request sent, awaiting response... 302 Found\n",
            "Location: /cd/0/inline2/B1S6jr7vuzoVKtozuXRClwRAKqbMVzH0fRDZfyLns-vfSLR3RNPLs6n0loy5a_DWT0_qbF7vINcveQTERp_3yjC6tbWqPt0obXuZoLb6brFuQ95jtJ_hyIOpwqwTMEk_P5nqRgH6g01usNKiF_JiqiFZVTPInw0Xg2y1thpbMgsqkWD9OoogJtOLYPkVdVk4bUM534G4ogttL40rE3FB3oHfFn1eiivrGudlaSC4J6m5N_I636QqQ21DQ15WqHY2OkVZAq6pZflfBRMIy60sSUgjSPWo8Ki0U1VLT_JmdknOLi5fZ-xrN6qXqQED35cA_IgoY5E9x9IeQIQlQm5lamhcZB6aXDIPXfqIhuNDIl8F9gtVx1y2hCeC_yFvjCM7F0mpnpGEhv0XdKa1q_FqWhd5y4u_scxVR087iSpx8oYlsQ/file [following]\n",
            "--2023-01-26 11:34:34--  https://uc14765fb619304032fe47d2ad8c.dl.dropboxusercontent.com/cd/0/inline2/B1S6jr7vuzoVKtozuXRClwRAKqbMVzH0fRDZfyLns-vfSLR3RNPLs6n0loy5a_DWT0_qbF7vINcveQTERp_3yjC6tbWqPt0obXuZoLb6brFuQ95jtJ_hyIOpwqwTMEk_P5nqRgH6g01usNKiF_JiqiFZVTPInw0Xg2y1thpbMgsqkWD9OoogJtOLYPkVdVk4bUM534G4ogttL40rE3FB3oHfFn1eiivrGudlaSC4J6m5N_I636QqQ21DQ15WqHY2OkVZAq6pZflfBRMIy60sSUgjSPWo8Ki0U1VLT_JmdknOLi5fZ-xrN6qXqQED35cA_IgoY5E9x9IeQIQlQm5lamhcZB6aXDIPXfqIhuNDIl8F9gtVx1y2hCeC_yFvjCM7F0mpnpGEhv0XdKa1q_FqWhd5y4u_scxVR087iSpx8oYlsQ/file\n",
            "Reusing existing connection to uc14765fb619304032fe47d2ad8c.dl.dropboxusercontent.com:443.\n",
            "HTTP request sent, awaiting response... 200 OK\n",
            "Length: 367830548 (351M) [application/zip]\n",
            "Saving to: ‘data_upload_v3.zip’\n",
            "\n",
            "data_upload_v3.zip  100%[===================>] 350.79M  63.6MB/s    in 5.7s    \n",
            "\n",
            "2023-01-26 11:34:41 (61.5 MB/s) - ‘data_upload_v3.zip’ saved [367830548/367830548]\n",
            "\n"
          ]
        }
      ],
      "source": [
        "!wget https://www.dropbox.com/s/9w8nmj791c9ogsx/data_upload_v3.zip"
      ]
    },
    {
      "cell_type": "code",
      "execution_count": null,
      "metadata": {
        "id": "DWWf7aNtbSnk"
      },
      "outputs": [],
      "source": [
        "!unzip -q data_upload_v3.zip"
      ]
    },
    {
      "cell_type": "code",
      "execution_count": null,
      "metadata": {
        "id": "1T0peP1BYrOH"
      },
      "outputs": [],
      "source": [
        "# Get the root path to dataset folder\n",
        "dataset_path = \"/content/data_upload_v3\""
      ]
    },
    {
      "cell_type": "code",
      "execution_count": null,
      "metadata": {
        "id": "RsnrouPw7RT5"
      },
      "outputs": [],
      "source": [
        "data_transforms = {\n",
        "    'train': transforms.Compose([\n",
        "        transforms.Resize(224),\n",
        "        transforms.RandomResizedCrop(224),\n",
        "        transforms.ToTensor(),\n",
        "        transforms.Normalize([0.485, 0.456, 0.406], [0.229, 0.224, 0.225])\n",
        "    ]) , \n",
        "    'test': transforms.Compose([\n",
        "        transforms.Resize(224),\n",
        "        transforms.CenterCrop(224),\n",
        "        transforms.ToTensor(),\n",
        "        transforms.Normalize([0.485, 0.456, 0.406], [0.229, 0.224, 0.225])\n",
        "    ])}\n",
        "image_datasets = {x: datasets.ImageFolder(os.path.join(dataset_path, x), data_transforms[x]) for x in ['train', 'test']}\n",
        "class_names = image_datasets['train'].classes  "
      ]
    },
    {
      "cell_type": "code",
      "execution_count": null,
      "metadata": {
        "id": "OJv4Nt53Mjje"
      },
      "outputs": [],
      "source": [
        "device = torch.device(\"cuda:0\" if torch.cuda.is_available() else \"cpu\")"
      ]
    },
    {
      "cell_type": "code",
      "execution_count": null,
      "metadata": {
        "id": "Jw-XKrTDPglo"
      },
      "outputs": [],
      "source": [
        "EPOCHS = 10\n",
        "BATCHSIZE = 32"
      ]
    },
    {
      "cell_type": "markdown",
      "metadata": {
        "id": "3DP6oVuRU1Sl"
      },
      "source": [
        "#**<font color=\"orange\">Data Augmentation</font>**"
      ]
    },
    {
      "cell_type": "code",
      "execution_count": null,
      "metadata": {
        "id": "UcgYXsblU6HN"
      },
      "outputs": [],
      "source": [
        "augmentation1 = transforms.Compose([\n",
        "                     transforms.Resize(224),\n",
        "                     transforms.RandomResizedCrop(224),\n",
        "                     transforms.ToTensor(),\n",
        "                     transforms.Normalize([0.485, 0.456, 0.406], [0.229, 0.224, 0.225]),\n",
        "                     transforms.RandomRotation(degrees=(-10, 10)),\n",
        "                     transforms.RandomHorizontalFlip(),\n",
        "                     transforms.RandomAffine(degrees=0, translate=(0.2, 0.2))\n",
        "                 ])\n",
        "\n",
        "augmentation2 = transforms.Compose([\n",
        "                     transforms.Resize(224),\n",
        "                     transforms.RandomResizedCrop(224),\n",
        "                     transforms.ToTensor(),\n",
        "                     transforms.Normalize([0.485, 0.456, 0.406], [0.229, 0.224, 0.225]),\n",
        "                     transforms.RandomRotation(degrees=(-30, 30)),\n",
        "                     transforms.RandomHorizontalFlip()\n",
        "                 ])\n",
        "augmented_dataset1 = datasets.ImageFolder(os.path.join(dataset_path, 'train'), augmentation1)\n",
        "augmented_dataset2 = datasets.ImageFolder(os.path.join(dataset_path, 'train'), augmentation2)\n",
        "image_datasets['train'] = torch.utils.data.ConcatDataset([image_datasets['train'], augmented_dataset1, augmented_dataset2])"
      ]
    },
    {
      "cell_type": "code",
      "execution_count": null,
      "metadata": {
        "id": "ZRHOxqnsvxDy"
      },
      "outputs": [],
      "source": [
        "dataloaders = {x: torch.utils.data.DataLoader(image_datasets[x], batch_size= batch, shuffle=True, num_workers= 0) for x, batch in [('train', BATCHSIZE), ('test', 1)]}\n",
        "dataset_sizes = {x: len(image_datasets[x]) for x in ['train', 'test']}"
      ]
    },
    {
      "cell_type": "markdown",
      "metadata": {
        "id": "G_0hWW_k1ty1"
      },
      "source": [
        "#**<font color=\"orange\">Functions</font>**"
      ]
    },
    {
      "cell_type": "code",
      "execution_count": null,
      "metadata": {
        "id": "AyENb1eKMd0N"
      },
      "outputs": [],
      "source": [
        "def train_model(model, criterion, optimizer, batch_size, num_epochs):\n",
        "    since = time.time()\n",
        "    \n",
        "    best_model_wts = copy.deepcopy(model.state_dict())\n",
        "    best_acc = 0.0\n",
        "    train_acc= []\n",
        "    valid_acc= []\n",
        "\n",
        "    for epoch in range(num_epochs):\n",
        "        print('Epoch {}/{}'.format(epoch + 1, num_epochs))\n",
        "        print('----------------------')\n",
        "\n",
        "        for phase in ['train', 'test']:\n",
        "            if phase == 'train':\n",
        "                model.train()\n",
        "            else:\n",
        "                model.eval()\n",
        "\n",
        "            running_loss = 0.0\n",
        "            running_corrects = 0\n",
        "\n",
        "            cur_batch_ind= 0\n",
        "            for inputs, labels in dataloaders[phase]:\n",
        "                inputs = inputs.to(device)\n",
        "                labels = labels.to(device)\n",
        "                \n",
        "                optimizer.zero_grad()\n",
        "\n",
        "                with torch.set_grad_enabled(phase == 'train'):\n",
        "                    outputs = model(inputs)\n",
        "                    _, preds = torch.max(outputs, 1)\n",
        "                    loss = criterion(outputs, labels)\n",
        "\n",
        "                    if phase == 'train':\n",
        "                        loss.backward()\n",
        "                        optimizer.step()\n",
        "\n",
        "                running_loss += loss.item() * inputs.size(0)\n",
        "                running_corrects += torch.sum(preds == labels.data)\n",
        "\n",
        "                cur_acc= torch.sum(preds == labels.data).double()/batch_size\n",
        "                cur_batch_ind +=1\n",
        "                \n",
        "                if phase=='train':\n",
        "                    train_acc.append(cur_acc)\n",
        "                else:\n",
        "                    valid_acc.append(cur_acc)\n",
        "                \n",
        "            epoch_loss= running_loss / dataset_sizes[phase]\n",
        "            epoch_acc = running_corrects.double() / dataset_sizes[phase]\n",
        "            \n",
        "            print(f'{phase} Loss: {epoch_loss} Acc: {epoch_acc} \\n\\n')\n",
        "\n",
        "            if phase == 'test' and epoch_acc > best_acc:\n",
        "                best_acc = epoch_acc\n",
        "                best_epoch= epoch + 1\n",
        "                best_model_wts = copy.deepcopy(model.state_dict())\n",
        "\n",
        "\n",
        "\n",
        "    time_elapsed = time.time() - since\n",
        "    print(f'Training complete in {int(time_elapsed // 60)}m {int(time_elapsed % 60)}s')\n",
        "    print(f'Best val acc= {best_acc} at Epoch: {best_epoch}')\n",
        "\n",
        "    model.load_state_dict(best_model_wts)\n",
        "    return model, train_acc, valid_acc"
      ]
    },
    {
      "cell_type": "code",
      "execution_count": null,
      "metadata": {
        "id": "SxreXDiOYJ3m"
      },
      "outputs": [],
      "source": [
        "def test_model(model, test_dataloader, threshold):\n",
        "  covid_predictions = []\n",
        "  not_covid_prediction = []\n",
        "  total_predictions = []\n",
        "  grand_truth = []\n",
        "\n",
        "  for image, labels in test_dataloader :\n",
        "    cur_img = image.cuda().reshape(1, 3, 224, 224)\n",
        "    out = model(cur_img)\n",
        "    cur_prob2 = torch.nn.Softmax()(out)\n",
        "    if float(cur_prob2[0][0])> threshold:\n",
        "      total_predictions.append(0)\n",
        "      covid_predictions.append(0)\n",
        "      grand_truth.append(labels)\n",
        "    else:\n",
        "      total_predictions.append(1)\n",
        "      not_covid_prediction.append(1)\n",
        "      grand_truth.append(labels)\n",
        "\n",
        "  covid_probs = []\n",
        "  not_covid_probs = []\n",
        "  for image, labels in test_dataloader:\n",
        "    cur_img = image.cuda().reshape(1, 3, 224, 224)\n",
        "    out = model(cur_img)\n",
        "    cur_prob = torch.nn.Softmax()(out)\n",
        "    if labels == 0 :\n",
        "        covid_probs.append(cur_prob.cpu().data.numpy()[0,0])\n",
        "    if labels == 1 :\n",
        "        not_covid_probs.append(cur_prob.cpu().data.numpy()[0,0])\n",
        "  a = 0\n",
        "  for i in range(len(test_dataloader)):\n",
        "    if grand_truth[i] == 0 :\n",
        "      if total_predictions[i] == 1:\n",
        "        a = a + 1\n",
        "  b = 0\n",
        "  for i in range(len(test_dataloader)):\n",
        "    if grand_truth[i] == 1 :\n",
        "      if total_predictions[i] == 0:\n",
        "        b = b + 1\n",
        "    \n",
        "  sensivity = (100 - a) / 100\n",
        "  specificity =  (3000 - b) / 3000\n",
        "  \n",
        "\n",
        "  print('num of samples predicted not covid but is covid :' ,a)\n",
        "  print('num of samples predicted covid but not covid:' , b)\n",
        "  print('num of total cases that predicted as covid: ' , len(covid_predictions))\n",
        "  print('num of total cases that predicted as non covid :' ,len(not_covid_prediction))\n",
        "  print('Sensitivity is :',sensivity)\n",
        "  print('Specificity is :', specificity)\n",
        "  return covid_probs , not_covid_probs ,covid_predictions , not_covid_prediction"
      ]
    },
    {
      "cell_type": "code",
      "execution_count": null,
      "metadata": {
        "id": "oVVnw7YjZI6d"
      },
      "outputs": [],
      "source": [
        "def probabilties(covid_prob ,non_prob ):\n",
        "  bins = np.linspace(0, 1, 25)\n",
        "  plt.subplot(211)\n",
        "  plt.hist(covid_prob, bins, color= 'blue', histtype = 'bar', label='Probabilities of COVID-19 Samples')\n",
        "  plt.ylim([0,10])\n",
        "  plt.legend(loc='upper center')\n",
        "  plt.subplot(212)\n",
        "  plt.hist(non_prob, bins, color= 'green', label='Probabilities of Non-COVID Samples')\n",
        "  plt.legend(loc='upper center')\n",
        "  plt.savefig('./scores_histogram.png')"
      ]
    },
    {
      "cell_type": "markdown",
      "metadata": {
        "id": "o3QwAsez4CIE"
      },
      "source": [
        "\n",
        "#**<font color=\"orange\">Define Model</font>**"
      ]
    },
    {
      "cell_type": "code",
      "execution_count": null,
      "metadata": {
        "colab": {
          "base_uri": "https://localhost:8080/",
          "height": 1000,
          "referenced_widgets": [
            "0d79ed658b694251b48f72662469e470",
            "789c4168a07542ec9bf0b22f4187f145",
            "398aa7af646b4f8a9cd496fd0324bb02",
            "e23d2238dfc043978ede37ea0b2572c7",
            "d3108263aa9b46a19b7e81d63e07d9f3",
            "5c9332c61da8410f937340e594e90a2c",
            "a57cb242092e4ba281022c8ccb861d2b",
            "a91eb9c17a59484bbc91cab918da2ac4",
            "0b1e599d62124c1ead639bfbafbe3f89",
            "fb599fcc46de42b29c495c1104426507",
            "9914bca9682b4a6d842326c9248a9d81"
          ]
        },
        "id": "FDRsQM73Zrfc",
        "outputId": "c7308569-4b37-4569-da5f-94e414b08ae6"
      },
      "outputs": [
        {
          "name": "stderr",
          "output_type": "stream",
          "text": [
            "Downloading: \"https://download.pytorch.org/models/resnet18-f37072fd.pth\" to /root/.cache/torch/hub/checkpoints/resnet18-f37072fd.pth\n"
          ]
        },
        {
          "data": {
            "application/vnd.jupyter.widget-view+json": {
              "model_id": "0d79ed658b694251b48f72662469e470",
              "version_major": 2,
              "version_minor": 0
            },
            "text/plain": [
              "  0%|          | 0.00/44.7M [00:00<?, ?B/s]"
            ]
          },
          "metadata": {},
          "output_type": "display_data"
        },
        {
          "name": "stdout",
          "output_type": "stream",
          "text": [
            "----------------------------------------------------------------\n",
            "        Layer (type)               Output Shape         Param #\n",
            "================================================================\n",
            "            Conv2d-1         [32, 64, 112, 112]           9,408\n",
            "       BatchNorm2d-2         [32, 64, 112, 112]             128\n",
            "              ReLU-3         [32, 64, 112, 112]               0\n",
            "         MaxPool2d-4           [32, 64, 56, 56]               0\n",
            "            Conv2d-5           [32, 64, 56, 56]          36,864\n",
            "       BatchNorm2d-6           [32, 64, 56, 56]             128\n",
            "              ReLU-7           [32, 64, 56, 56]               0\n",
            "            Conv2d-8           [32, 64, 56, 56]          36,864\n",
            "       BatchNorm2d-9           [32, 64, 56, 56]             128\n",
            "             ReLU-10           [32, 64, 56, 56]               0\n",
            "       BasicBlock-11           [32, 64, 56, 56]               0\n",
            "           Conv2d-12           [32, 64, 56, 56]          36,864\n",
            "      BatchNorm2d-13           [32, 64, 56, 56]             128\n",
            "             ReLU-14           [32, 64, 56, 56]               0\n",
            "           Conv2d-15           [32, 64, 56, 56]          36,864\n",
            "      BatchNorm2d-16           [32, 64, 56, 56]             128\n",
            "             ReLU-17           [32, 64, 56, 56]               0\n",
            "       BasicBlock-18           [32, 64, 56, 56]               0\n",
            "           Conv2d-19          [32, 128, 28, 28]          73,728\n",
            "      BatchNorm2d-20          [32, 128, 28, 28]             256\n",
            "             ReLU-21          [32, 128, 28, 28]               0\n",
            "           Conv2d-22          [32, 128, 28, 28]         147,456\n",
            "      BatchNorm2d-23          [32, 128, 28, 28]             256\n",
            "           Conv2d-24          [32, 128, 28, 28]           8,192\n",
            "      BatchNorm2d-25          [32, 128, 28, 28]             256\n",
            "             ReLU-26          [32, 128, 28, 28]               0\n",
            "       BasicBlock-27          [32, 128, 28, 28]               0\n",
            "           Conv2d-28          [32, 128, 28, 28]         147,456\n",
            "      BatchNorm2d-29          [32, 128, 28, 28]             256\n",
            "             ReLU-30          [32, 128, 28, 28]               0\n",
            "           Conv2d-31          [32, 128, 28, 28]         147,456\n",
            "      BatchNorm2d-32          [32, 128, 28, 28]             256\n",
            "             ReLU-33          [32, 128, 28, 28]               0\n",
            "       BasicBlock-34          [32, 128, 28, 28]               0\n",
            "           Conv2d-35          [32, 256, 14, 14]         294,912\n",
            "      BatchNorm2d-36          [32, 256, 14, 14]             512\n",
            "             ReLU-37          [32, 256, 14, 14]               0\n",
            "           Conv2d-38          [32, 256, 14, 14]         589,824\n",
            "      BatchNorm2d-39          [32, 256, 14, 14]             512\n",
            "           Conv2d-40          [32, 256, 14, 14]          32,768\n",
            "      BatchNorm2d-41          [32, 256, 14, 14]             512\n",
            "             ReLU-42          [32, 256, 14, 14]               0\n",
            "       BasicBlock-43          [32, 256, 14, 14]               0\n",
            "           Conv2d-44          [32, 256, 14, 14]         589,824\n",
            "      BatchNorm2d-45          [32, 256, 14, 14]             512\n",
            "             ReLU-46          [32, 256, 14, 14]               0\n",
            "           Conv2d-47          [32, 256, 14, 14]         589,824\n",
            "      BatchNorm2d-48          [32, 256, 14, 14]             512\n",
            "             ReLU-49          [32, 256, 14, 14]               0\n",
            "       BasicBlock-50          [32, 256, 14, 14]               0\n",
            "           Conv2d-51            [32, 512, 7, 7]       1,179,648\n",
            "      BatchNorm2d-52            [32, 512, 7, 7]           1,024\n",
            "             ReLU-53            [32, 512, 7, 7]               0\n",
            "           Conv2d-54            [32, 512, 7, 7]       2,359,296\n",
            "      BatchNorm2d-55            [32, 512, 7, 7]           1,024\n",
            "           Conv2d-56            [32, 512, 7, 7]         131,072\n",
            "      BatchNorm2d-57            [32, 512, 7, 7]           1,024\n",
            "             ReLU-58            [32, 512, 7, 7]               0\n",
            "       BasicBlock-59            [32, 512, 7, 7]               0\n",
            "           Conv2d-60            [32, 512, 7, 7]       2,359,296\n",
            "      BatchNorm2d-61            [32, 512, 7, 7]           1,024\n",
            "             ReLU-62            [32, 512, 7, 7]               0\n",
            "           Conv2d-63            [32, 512, 7, 7]       2,359,296\n",
            "      BatchNorm2d-64            [32, 512, 7, 7]           1,024\n",
            "             ReLU-65            [32, 512, 7, 7]               0\n",
            "       BasicBlock-66            [32, 512, 7, 7]               0\n",
            "AdaptiveAvgPool2d-67            [32, 512, 1, 1]               0\n",
            "           Linear-68                    [32, 2]           1,026\n",
            "================================================================\n",
            "Total params: 11,177,538\n",
            "Trainable params: 8,394,754\n",
            "Non-trainable params: 2,782,784\n",
            "----------------------------------------------------------------\n",
            "Input size (MB): 18.38\n",
            "Forward/backward pass size (MB): 2009.13\n",
            "Params size (MB): 42.64\n",
            "Estimated Total Size (MB): 2070.14\n",
            "----------------------------------------------------------------\n"
          ]
        }
      ],
      "source": [
        "model_conv = torchvision.models.resnet18(pretrained=True)\n",
        "for i, child in enumerate(model_conv.children()):\n",
        "    if i >= 7 :\n",
        "        for param in child.parameters():\n",
        "            param.requires_grad = True\n",
        "    else:\n",
        "        for param in child.parameters():\n",
        "            param.requires_grad = False\n",
        "\n",
        "num_ftrs = model_conv.fc.in_features        \n",
        "model_conv.fc = nn.Linear(num_ftrs, 2)\n",
        "\n",
        "\n",
        "model_conv = model_conv.to(device)  \n",
        "criterion = nn.CrossEntropyLoss()\n",
        "\n",
        "optimizer_conv = optim.Adam(model_conv.fc.parameters())  \n",
        "\n",
        "summary(model_conv, (3, 224, 224), batch_size=BATCHSIZE)"
      ]
    },
    {
      "cell_type": "code",
      "execution_count": null,
      "metadata": {
        "colab": {
          "base_uri": "https://localhost:8080/"
        },
        "id": "tdOQi2xYqm4S",
        "outputId": "c6255b08-1701-4fa1-cf54-9b892a9369b0"
      },
      "outputs": [
        {
          "name": "stdout",
          "output_type": "stream",
          "text": [
            "Epoch 1/10\n",
            "----------------------\n",
            "train Loss: 0.16222236256853403 Acc: 0.95489443378119 \n",
            "\n",
            "\n",
            "test Loss: 0.07899920159247666 Acc: 0.9693548387096774 \n",
            "\n",
            "\n",
            "Epoch 2/10\n",
            "----------------------\n",
            "train Loss: 0.10814965849769703 Acc: 0.9632117722328855 \n",
            "\n",
            "\n",
            "test Loss: 0.06029406537329006 Acc: 0.9751612903225807 \n",
            "\n",
            "\n",
            "Epoch 3/10\n",
            "----------------------\n",
            "train Loss: 0.08908034455071674 Acc: 0.9705694177863083 \n",
            "\n",
            "\n",
            "test Loss: 0.04679861300280707 Acc: 0.9812903225806452 \n",
            "\n",
            "\n",
            "Epoch 4/10\n",
            "----------------------\n",
            "train Loss: 0.07944297412993126 Acc: 0.972168905950096 \n",
            "\n",
            "\n",
            "test Loss: 0.05532539968312179 Acc: 0.9790322580645161 \n",
            "\n",
            "\n",
            "Epoch 5/10\n",
            "----------------------\n",
            "train Loss: 0.06996641438680815 Acc: 0.9750479846449136 \n",
            "\n",
            "\n",
            "test Loss: 0.043493106604381035 Acc: 0.983225806451613 \n",
            "\n",
            "\n",
            "Epoch 6/10\n",
            "----------------------\n",
            "train Loss: 0.07035717120249914 Acc: 0.9768074216250799 \n",
            "\n",
            "\n",
            "test Loss: 0.03791785920211118 Acc: 0.9867741935483871 \n",
            "\n",
            "\n",
            "Epoch 7/10\n",
            "----------------------\n",
            "train Loss: 0.06655489650071716 Acc: 0.9760076775431862 \n",
            "\n",
            "\n",
            "test Loss: 0.0321448438750766 Acc: 0.9909677419354839 \n",
            "\n",
            "\n",
            "Epoch 8/10\n",
            "----------------------\n",
            "train Loss: 0.06167583378694441 Acc: 0.9782469609724888 \n",
            "\n",
            "\n",
            "test Loss: 0.053126513953029184 Acc: 0.9819354838709677 \n",
            "\n",
            "\n",
            "Epoch 9/10\n",
            "----------------------\n",
            "train Loss: 0.06382394533649668 Acc: 0.9753678822776711 \n",
            "\n",
            "\n",
            "test Loss: 0.0367118860628769 Acc: 0.9893548387096774 \n",
            "\n",
            "\n",
            "Epoch 10/10\n",
            "----------------------\n",
            "train Loss: 0.05225512995167146 Acc: 0.9824056301983365 \n",
            "\n",
            "\n",
            "test Loss: 0.04148117590979493 Acc: 0.9864516129032258 \n",
            "\n",
            "\n",
            "Training complete in 14m 34s\n",
            "Best val acc= 0.9909677419354839 at Epoch: 7\n"
          ]
        }
      ],
      "source": [
        "model_conv, train_acc, valid_acc = train_model(model_conv, criterion, optimizer_conv, BATCHSIZE, EPOCHS)\n",
        "model_conv.eval()\n",
        "torch.save(model_conv, './covid_resnet18.pt')"
      ]
    },
    {
      "cell_type": "markdown",
      "metadata": {
        "id": "HggCZLuNA5uP"
      },
      "source": []
    },
    {
      "cell_type": "markdown",
      "metadata": {
        "id": "RvqQcoZVBDTQ"
      },
      "source": [
        "#**<font color=\"orange\">Test Model With thereshold 0.1</font>**"
      ]
    },
    {
      "cell_type": "code",
      "execution_count": null,
      "metadata": {
        "colab": {
          "base_uri": "https://localhost:8080/"
        },
        "id": "cLaifJJBP1ox",
        "outputId": "7a8da399-bdcd-44e5-ddee-feefe1dff80d"
      },
      "outputs": [
        {
          "name": "stdout",
          "output_type": "stream",
          "text": [
            "num of samples predicted not covid but is covid : 14\n",
            "num of samples predicted covid but not covid: 33\n",
            "num of total cases that predicted as covid:  119\n",
            "num of total cases that predicted as non covid : 2981\n",
            "Sensitivity is : 0.86\n",
            "Specificity is : 0.989\n"
          ]
        }
      ],
      "source": [
        "covid_probs , not_covid_probs ,covid_predictions , not_covid_prediction = test_model(model_conv, dataloaders['test'], 0.1)"
      ]
    },
    {
      "cell_type": "code",
      "execution_count": null,
      "metadata": {
        "colab": {
          "base_uri": "https://localhost:8080/",
          "height": 269
        },
        "id": "nfnLfoTZWfBN",
        "outputId": "16e926df-5e4d-45e2-dc0d-85722a42a75b"
      },
      "outputs": [
        {
          "data": {
            "image/png": "[encoded data removed]",
            "text/plain": [
              "<Figure size 432x288 with 2 Axes>"
            ]
          },
          "metadata": {
            "needs_background": "light"
          },
          "output_type": "display_data"
        }
      ],
      "source": [
        "probabilties(covid_probs , not_covid_probs)"
      ]
    },
    {
      "cell_type": "markdown",
      "metadata": {
        "id": "BTxIF6AkBQsS"
      },
      "source": [
        "#**<font color=\"orange\">Test Model With thereshold 0.17</font>**"
      ]
    },
    {
      "cell_type": "code",
      "execution_count": null,
      "metadata": {
        "colab": {
          "base_uri": "https://localhost:8080/"
        },
        "id": "uOp7z3kSBU7a",
        "outputId": "29246cde-8823-4f2e-9532-ddd7eff03e45"
      },
      "outputs": [
        {
          "name": "stdout",
          "output_type": "stream",
          "text": [
            "num of samples predicted not covid but is covid : 16\n",
            "num of samples predicted covid but not covid: 13\n",
            "num of total cases that predicted as covid:  97\n",
            "num of total cases that predicted as non covid : 3003\n",
            "Sensitivity is : 0.84\n",
            "Specificity is : 0.9956666666666667\n"
          ]
        }
      ],
      "source": [
        "covid_probs , not_covid_probs ,covid_predictions , not_covid_prediction = test_model(model_conv, dataloaders['test'], 0.17)"
      ]
    },
    {
      "cell_type": "code",
      "execution_count": null,
      "metadata": {
        "colab": {
          "base_uri": "https://localhost:8080/",
          "height": 269
        },
        "id": "XMZk0RIEBbG7",
        "outputId": "6aa16eb2-9a40-4f73-f13c-b58cafeb086d"
      },
      "outputs": [
        {
          "data": {
            "image/png": "[encoded data removed]",
            "text/plain": [
              "<Figure size 432x288 with 2 Axes>"
            ]
          },
          "metadata": {
            "needs_background": "light"
          },
          "output_type": "display_data"
        }
      ],
      "source": [
        "probabilties(covid_probs , not_covid_probs)"
      ]
    },
    {
      "cell_type": "markdown",
      "metadata": {
        "id": "lhCC1GlmBcKn"
      },
      "source": [
        "#**<font color=\"orange\">Test Model With thereshold 0.2</font>**"
      ]
    },
    {
      "cell_type": "code",
      "execution_count": null,
      "metadata": {
        "colab": {
          "base_uri": "https://localhost:8080/"
        },
        "id": "fhqAJbHKBhEI",
        "outputId": "498b0c65-de80-470d-c84d-29c14b66768a"
      },
      "outputs": [
        {
          "name": "stdout",
          "output_type": "stream",
          "text": [
            "num of samples predicted not covid but is covid : 18\n",
            "num of samples predicted covid but not covid: 10\n",
            "num of total cases that predicted as covid:  92\n",
            "num of total cases that predicted as non covid : 3008\n",
            "Sensitivity is : 0.82\n",
            "Specificity is : 0.9966666666666667\n"
          ]
        }
      ],
      "source": [
        "covid_probs , not_covid_probs ,covid_predictions , not_covid_prediction = test_model(model_conv, dataloaders['test'], 0.2)"
      ]
    },
    {
      "cell_type": "code",
      "execution_count": null,
      "metadata": {
        "colab": {
          "base_uri": "https://localhost:8080/",
          "height": 269
        },
        "id": "7U3aSThdBkLG",
        "outputId": "1187e265-5390-41b2-f2b9-abd746d9a633"
      },
      "outputs": [
        {
          "data": {
            "image/png": "[encoded data removed]",
            "text/plain": [
              "<Figure size 432x288 with 2 Axes>"
            ]
          },
          "metadata": {
            "needs_background": "light"
          },
          "output_type": "display_data"
        }
      ],
      "source": [
        "probabilties(covid_probs , not_covid_probs)"
      ]
    },
    {
      "cell_type": "markdown",
      "metadata": {
        "id": "eBm0iRS-B5Ut"
      },
      "source": [
        "#**<font color=\"orange\">Test Model With thereshold 0.25</font>**"
      ]
    },
    {
      "cell_type": "code",
      "execution_count": null,
      "metadata": {
        "colab": {
          "base_uri": "https://localhost:8080/"
        },
        "id": "FnYIUjqDCL6J",
        "outputId": "9bfabfd0-fc2b-44e1-c1fe-072617e910af"
      },
      "outputs": [
        {
          "name": "stdout",
          "output_type": "stream",
          "text": [
            "num of samples predicted not covid but is covid : 21\n",
            "num of samples predicted covid but not covid: 9\n",
            "num of total cases that predicted as covid:  88\n",
            "num of total cases that predicted as non covid : 3012\n",
            "Sensitivity is : 0.79\n",
            "Specificity is : 0.997\n"
          ]
        }
      ],
      "source": [
        "covid_probs , not_covid_probs ,covid_predictions , not_covid_prediction = test_model(model_conv, dataloaders['test'], 0.25)"
      ]
    },
    {
      "cell_type": "code",
      "execution_count": null,
      "metadata": {
        "colab": {
          "base_uri": "https://localhost:8080/",
          "height": 269
        },
        "id": "etvPEsHJCTBT",
        "outputId": "983e2e03-2d47-4dda-a5ba-865da72aa605"
      },
      "outputs": [
        {
          "data": {
            "image/png": "[encoded data removed]",
            "text/plain": [
              "<Figure size 432x288 with 2 Axes>"
            ]
          },
          "metadata": {
            "needs_background": "light"
          },
          "output_type": "display_data"
        }
      ],
      "source": [
        "probabilties(covid_probs , not_covid_probs)"
      ]
    },
    {
      "cell_type": "markdown",
      "metadata": {
        "id": "zHjyOzgnB7O_"
      },
      "source": [
        "#**<font color=\"orange\">Test Model With thereshold 0.35</font>**"
      ]
    },
    {
      "cell_type": "code",
      "execution_count": null,
      "metadata": {
        "colab": {
          "base_uri": "https://localhost:8080/"
        },
        "id": "6Mq0Y0IqCXkB",
        "outputId": "7c3c3061-3ede-408e-c141-c8e59bf858ac"
      },
      "outputs": [
        {
          "name": "stdout",
          "output_type": "stream",
          "text": [
            "num of samples predicted not covid but is covid : 24\n",
            "num of samples predicted covid but not covid: 3\n",
            "num of total cases that predicted as covid:  79\n",
            "num of total cases that predicted as non covid : 3021\n",
            "Sensitivity is : 0.76\n",
            "Specificity is : 0.999\n"
          ]
        }
      ],
      "source": [
        "covid_probs , not_covid_probs ,covid_predictions , not_covid_prediction = test_model(model_conv, dataloaders['test'], 0.35)"
      ]
    },
    {
      "cell_type": "code",
      "execution_count": null,
      "metadata": {
        "colab": {
          "base_uri": "https://localhost:8080/",
          "height": 269
        },
        "id": "LQEQY1kdCaFv",
        "outputId": "b4097fcb-5278-4eb2-f5a1-781597fbf9fb"
      },
      "outputs": [
        {
          "data": {
            "image/png": "[encoded data removed]",
            "text/plain": [
              "<Figure size 432x288 with 2 Axes>"
            ]
          },
          "metadata": {
            "needs_background": "light"
          },
          "output_type": "display_data"
        }
      ],
      "source": [
        "probabilties(covid_probs , not_covid_probs)"
      ]
    }
  ],
  "metadata": {
    "accelerator": "GPU",
    "colab": {
      "provenance": []
    },
    "gpuClass": "standard",
    "kernelspec": {
      "display_name": "Python 3",
      "name": "python3"
    },
    "language_info": {
      "name": "python"
    },
    "widgets": {
      "application/vnd.jupyter.widget-state+json": {
        "0b1e599d62124c1ead639bfbafbe3f89": {
          "model_module": "@jupyter-widgets/controls",
          "model_module_version": "1.5.0",
          "model_name": "ProgressStyleModel",
          "state": {
            "_model_module": "@jupyter-widgets/controls",
            "_model_module_version": "1.5.0",
            "_model_name": "ProgressStyleModel",
            "_view_count": null,
            "_view_module": "@jupyter-widgets/base",
            "_view_module_version": "1.2.0",
            "_view_name": "StyleView",
            "bar_color": null,
            "description_width": ""
          }
        },
        "0d79ed658b694251b48f72662469e470": {
          "model_module": "@jupyter-widgets/controls",
          "model_module_version": "1.5.0",
          "model_name": "HBoxModel",
          "state": {
            "_dom_classes": [],
            "_model_module": "@jupyter-widgets/controls",
            "_model_module_version": "1.5.0",
            "_model_name": "HBoxModel",
            "_view_count": null,
            "_view_module": "@jupyter-widgets/controls",
            "_view_module_version": "1.5.0",
            "_view_name": "HBoxView",
            "box_style": "",
            "children": [
              "IPY_MODEL_789c4168a07542ec9bf0b22f4187f145",
              "IPY_MODEL_398aa7af646b4f8a9cd496fd0324bb02",
              "IPY_MODEL_e23d2238dfc043978ede37ea0b2572c7"
            ],
            "layout": "IPY_MODEL_d3108263aa9b46a19b7e81d63e07d9f3"
          }
        },
        "398aa7af646b4f8a9cd496fd0324bb02": {
          "model_module": "@jupyter-widgets/controls",
          "model_module_version": "1.5.0",
          "model_name": "FloatProgressModel",
          "state": {
            "_dom_classes": [],
            "_model_module": "@jupyter-widgets/controls",
            "_model_module_version": "1.5.0",
            "_model_name": "FloatProgressModel",
            "_view_count": null,
            "_view_module": "@jupyter-widgets/controls",
            "_view_module_version": "1.5.0",
            "_view_name": "ProgressView",
            "bar_style": "success",
            "description": "",
            "description_tooltip": null,
            "layout": "IPY_MODEL_a91eb9c17a59484bbc91cab918da2ac4",
            "max": 46830571,
            "min": 0,
            "orientation": "horizontal",
            "style": "IPY_MODEL_0b1e599d62124c1ead639bfbafbe3f89",
            "value": 46830571
          }
        },
        "5c9332c61da8410f937340e594e90a2c": {
          "model_module": "@jupyter-widgets/base",
          "model_module_version": "1.2.0",
          "model_name": "LayoutModel",
          "state": {
            "_model_module": "@jupyter-widgets/base",
            "_model_module_version": "1.2.0",
            "_model_name": "LayoutModel",
            "_view_count": null,
            "_view_module": "@jupyter-widgets/base",
            "_view_module_version": "1.2.0",
            "_view_name": "LayoutView",
            "align_content": null,
            "align_items": null,
            "align_self": null,
            "border": null,
            "bottom": null,
            "display": null,
            "flex": null,
            "flex_flow": null,
            "grid_area": null,
            "grid_auto_columns": null,
            "grid_auto_flow": null,
            "grid_auto_rows": null,
            "grid_column": null,
            "grid_gap": null,
            "grid_row": null,
            "grid_template_areas": null,
            "grid_template_columns": null,
            "grid_template_rows": null,
            "height": null,
            "justify_content": null,
            "justify_items": null,
            "left": null,
            "margin": null,
            "max_height": null,
            "max_width": null,
            "min_height": null,
            "min_width": null,
            "object_fit": null,
            "object_position": null,
            "order": null,
            "overflow": null,
            "overflow_x": null,
            "overflow_y": null,
            "padding": null,
            "right": null,
            "top": null,
            "visibility": null,
            "width": null
          }
        },
        "789c4168a07542ec9bf0b22f4187f145": {
          "model_module": "@jupyter-widgets/controls",
          "model_module_version": "1.5.0",
          "model_name": "HTMLModel",
          "state": {
            "_dom_classes": [],
            "_model_module": "@jupyter-widgets/controls",
            "_model_module_version": "1.5.0",
            "_model_name": "HTMLModel",
            "_view_count": null,
            "_view_module": "@jupyter-widgets/controls",
            "_view_module_version": "1.5.0",
            "_view_name": "HTMLView",
            "description": "",
            "description_tooltip": null,
            "layout": "IPY_MODEL_5c9332c61da8410f937340e594e90a2c",
            "placeholder": "​",
            "style": "IPY_MODEL_a57cb242092e4ba281022c8ccb861d2b",
            "value": "100%"
          }
        },
        "9914bca9682b4a6d842326c9248a9d81": {
          "model_module": "@jupyter-widgets/controls",
          "model_module_version": "1.5.0",
          "model_name": "DescriptionStyleModel",
          "state": {
            "_model_module": "@jupyter-widgets/controls",
            "_model_module_version": "1.5.0",
            "_model_name": "DescriptionStyleModel",
            "_view_count": null,
            "_view_module": "@jupyter-widgets/base",
            "_view_module_version": "1.2.0",
            "_view_name": "StyleView",
            "description_width": ""
          }
        },
        "a57cb242092e4ba281022c8ccb861d2b": {
          "model_module": "@jupyter-widgets/controls",
          "model_module_version": "1.5.0",
          "model_name": "DescriptionStyleModel",
          "state": {
            "_model_module": "@jupyter-widgets/controls",
            "_model_module_version": "1.5.0",
            "_model_name": "DescriptionStyleModel",
            "_view_count": null,
            "_view_module": "@jupyter-widgets/base",
            "_view_module_version": "1.2.0",
            "_view_name": "StyleView",
            "description_width": ""
          }
        },
        "a91eb9c17a59484bbc91cab918da2ac4": {
          "model_module": "@jupyter-widgets/base",
          "model_module_version": "1.2.0",
          "model_name": "LayoutModel",
          "state": {
            "_model_module": "@jupyter-widgets/base",
            "_model_module_version": "1.2.0",
            "_model_name": "LayoutModel",
            "_view_count": null,
            "_view_module": "@jupyter-widgets/base",
            "_view_module_version": "1.2.0",
            "_view_name": "LayoutView",
            "align_content": null,
            "align_items": null,
            "align_self": null,
            "border": null,
            "bottom": null,
            "display": null,
            "flex": null,
            "flex_flow": null,
            "grid_area": null,
            "grid_auto_columns": null,
            "grid_auto_flow": null,
            "grid_auto_rows": null,
            "grid_column": null,
            "grid_gap": null,
            "grid_row": null,
            "grid_template_areas": null,
            "grid_template_columns": null,
            "grid_template_rows": null,
            "height": null,
            "justify_content": null,
            "justify_items": null,
            "left": null,
            "margin": null,
            "max_height": null,
            "max_width": null,
            "min_height": null,
            "min_width": null,
            "object_fit": null,
            "object_position": null,
            "order": null,
            "overflow": null,
            "overflow_x": null,
            "overflow_y": null,
            "padding": null,
            "right": null,
            "top": null,
            "visibility": null,
            "width": null
          }
        },
        "d3108263aa9b46a19b7e81d63e07d9f3": {
          "model_module": "@jupyter-widgets/base",
          "model_module_version": "1.2.0",
          "model_name": "LayoutModel",
          "state": {
            "_model_module": "@jupyter-widgets/base",
            "_model_module_version": "1.2.0",
            "_model_name": "LayoutModel",
            "_view_count": null,
            "_view_module": "@jupyter-widgets/base",
            "_view_module_version": "1.2.0",
            "_view_name": "LayoutView",
            "align_content": null,
            "align_items": null,
            "align_self": null,
            "border": null,
            "bottom": null,
            "display": null,
            "flex": null,
            "flex_flow": null,
            "grid_area": null,
            "grid_auto_columns": null,
            "grid_auto_flow": null,
            "grid_auto_rows": null,
            "grid_column": null,
            "grid_gap": null,
            "grid_row": null,
            "grid_template_areas": null,
            "grid_template_columns": null,
            "grid_template_rows": null,
            "height": null,
            "justify_content": null,
            "justify_items": null,
            "left": null,
            "margin": null,
            "max_height": null,
            "max_width": null,
            "min_height": null,
            "min_width": null,
            "object_fit": null,
            "object_position": null,
            "order": null,
            "overflow": null,
            "overflow_x": null,
            "overflow_y": null,
            "padding": null,
            "right": null,
            "top": null,
            "visibility": null,
            "width": null
          }
        },
        "e23d2238dfc043978ede37ea0b2572c7": {
          "model_module": "@jupyter-widgets/controls",
          "model_module_version": "1.5.0",
          "model_name": "HTMLModel",
          "state": {
            "_dom_classes": [],
            "_model_module": "@jupyter-widgets/controls",
            "_model_module_version": "1.5.0",
            "_model_name": "HTMLModel",
            "_view_count": null,
            "_view_module": "@jupyter-widgets/controls",
            "_view_module_version": "1.5.0",
            "_view_name": "HTMLView",
            "description": "",
            "description_tooltip": null,
            "layout": "IPY_MODEL_fb599fcc46de42b29c495c1104426507",
            "placeholder": "​",
            "style": "IPY_MODEL_9914bca9682b4a6d842326c9248a9d81",
            "value": " 44.7M/44.7M [00:00&lt;00:00, 106MB/s]"
          }
        },
        "fb599fcc46de42b29c495c1104426507": {
          "model_module": "@jupyter-widgets/base",
          "model_module_version": "1.2.0",
          "model_name": "LayoutModel",
          "state": {
            "_model_module": "@jupyter-widgets/base",
            "_model_module_version": "1.2.0",
            "_model_name": "LayoutModel",
            "_view_count": null,
            "_view_module": "@jupyter-widgets/base",
            "_view_module_version": "1.2.0",
            "_view_name": "LayoutView",
            "align_content": null,
            "align_items": null,
            "align_self": null,
            "border": null,
            "bottom": null,
            "display": null,
            "flex": null,
            "flex_flow": null,
            "grid_area": null,
            "grid_auto_columns": null,
            "grid_auto_flow": null,
            "grid_auto_rows": null,
            "grid_column": null,
            "grid_gap": null,
            "grid_row": null,
            "grid_template_areas": null,
            "grid_template_columns": null,
            "grid_template_rows": null,
            "height": null,
            "justify_content": null,
            "justify_items": null,
            "left": null,
            "margin": null,
            "max_height": null,
            "max_width": null,
            "min_height": null,
            "min_width": null,
            "object_fit": null,
            "object_position": null,
            "order": null,
            "overflow": null,
            "overflow_x": null,
            "overflow_y": null,
            "padding": null,
            "right": null,
            "top": null,
            "visibility": null,
            "width": null
          }
        }
      }
    }
  },
  "nbformat": 4,
  "nbformat_minor": 0
}
